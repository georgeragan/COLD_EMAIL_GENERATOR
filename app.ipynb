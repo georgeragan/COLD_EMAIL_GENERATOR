{
 "cells": [
  {
   "cell_type": "code",
   "execution_count": 9,
   "metadata": {},
   "outputs": [],
   "source": [
    "import os\n",
    "from dotenv import load_dotenv\n",
    "load_dotenv()\n",
    "\n",
    "groq_api_key=os.getenv(\"GROQ_API_KEY\")"
   ]
  },
  {
   "cell_type": "code",
   "execution_count": 11,
   "metadata": {},
   "outputs": [],
   "source": [
    "from langchain_groq import ChatGroq\n",
    "llm=ChatGroq(model=\"gemma2-9b-it\",groq_api_key=groq_api_key)"
   ]
  },
  {
   "cell_type": "code",
   "execution_count": 12,
   "metadata": {},
   "outputs": [
    {
     "name": "stdout",
     "output_type": "stream",
     "text": [
      "That would be **Neil Armstrong**, an American astronaut. He took his famous \"one small step\" on July 20, 1969, during the Apollo 11 mission. \n",
      "\n"
     ]
    }
   ],
   "source": [
    "response = llm.invoke(\"The first person to land on moon was ...\")\n",
    "print(response.content)"
   ]
  },
  {
   "cell_type": "code",
   "execution_count": 16,
   "metadata": {},
   "outputs": [
    {
     "name": "stdout",
     "output_type": "stream",
     "text": [
      "\n",
      "\n",
      "\n",
      "\n",
      "\n",
      "\n",
      "\n",
      "\n",
      "\n",
      "\n",
      "\n",
      "\n",
      "\n",
      "\n",
      "\n",
      "\n",
      "\n",
      " \n",
      "\n",
      "\n",
      "\n",
      "\n",
      "\n",
      "\n",
      "\n",
      "\n",
      "\n",
      "\n",
      "\n",
      "\n",
      "\n",
      "\n",
      "\n",
      "\n",
      "Technopark Job posting for Python Developer ( For Night Shifts)\n",
      "\n",
      "MenuThis Is TechnoparkCompanies & JobsInfrastructure & Services< All Jobs REIZEND PRIVATE LIMITEDSBC Module 15, \n",
      "-2 Floor, Thejaswini Building, \n",
      "Technopark phase 1, Trivandrum , 695581http://www.reizendretail.inPython Developer ( For Night Shifts)Closing Date:08,Nov 2024Job Published: 24,Oct 2024Contact Email:  careers@reizendretail.in Brief DescriptionLocation: Trivandrum\n",
      "Required Skills\n",
      "•           Proficiency in Python programming with a strong grasp of core concepts.\n",
      "•           Basic Data Structures and Algorithms: Familiarity with common data structures (lists, dictionaries, tuples) and basic algorithms (sorting, searching) is advantageous.\n",
      "•           Problem-Solving Skills: Ability to analyse and solve programming problems using Python.\n",
      "•           Understanding of Object-Oriented Programming (OOP): Basic understanding of OOP principles like classes, objects, inheritance, and encapsulation\n",
      "•           Basic knowledge in Data Science including but not limited to ETL, EDA, Data Processing, Visualization etc.\n",
      "•           Familiarity with machine learning and deep learning models (e.g., Tensor Flow, Keras, PyTorch).\n",
      "•           Experience working with SQL DMBS like PostgreSQL is a plus.\n",
      "•           Basic understanding of Natural Language Processing (NLP) concepts\n",
      "•           Knowledge of Python frameworks like Django\n",
      "•           Familiarity with Jira and Agile methodology will be an added advantage.\n",
      "•           Certification or experience in data analysis, data mining, and statistical modelling is an added advantage\n",
      "•           Strong knowledge of statistical concepts and techniques.\n",
      "•           Knowledge in data visualization tools (Tableau, Power BI, etc.) and SQL.\n",
      "•           Excellent problem-solving and analytical skills.\n",
      "•           Strong communication and presentation skills.\n",
      "•           Ability to work independently during night hours with minimal supervision\n",
      "•           Must be flexible to adjust to the occasional overtime or weekend shifts.Preferred SkillsQualifications\n",
      " \n",
      "•           Bachelor's or Master's degree in Data Science, Statistics, Mathematics, Computer Science, or a related field.\n",
      " \n",
      "Experience : 0 to 2 yrs. (Fresher’s can apply)\n",
      "Package - 4-6 LPA\n",
      "Other Benefits - Nightshift Allowances\n",
      " \n",
      "Employment Type: Full Time, Permanent\n",
      "Role Category: Data Science & Machine Learning\n",
      "Key : Python, Basic Data Structures, Tensor Flow, PyTorch, Natural Language Processing (NLP), Data Science, Sklearn, Django, Prompt EngineeringHappening HereAll NewsTendersEventsBlogQuick LinksCompany LoginVisitor PassFacility BookingContact UsSpace Request ApplicationCompanies & JobsBrowse CompaniesCareers@Technopark\"An unlikely innovation supercenter, driven by the human spirit, and an environment that nurtures it.\"\n",
      "\n",
      "\n"
     ]
    }
   ],
   "source": [
    "from langchain_community.document_loaders import WebBaseLoader\n",
    "\n",
    "loader = WebBaseLoader(\"https://technopark.org/job-details/15243?job=Python%20Developer%20(%20For%20Night%20Shifts)\")\n",
    "page_data = loader.load().pop().page_content\n",
    "print(page_data)"
   ]
  },
  {
   "cell_type": "code",
   "execution_count": 17,
   "metadata": {},
   "outputs": [
    {
     "data": {
      "text/plain": [
       "'```json\\n[\\n  {\\n    \"role\": \"Python Developer ( For Night Shifts)\",\\n    \"experience\": \"0 to 2 yrs. (Fresher’s can apply)\",\\n    \"skills\": [\\n      \"Proficiency in Python programming with a strong grasp of core concepts.\",\\n      \"Basic Data Structures and Algorithms: Familiarity with common data structures (lists, dictionaries, tuples) and basic algorithms (sorting, searching) is advantageous.\",\\n      \"Problem-Solving Skills: Ability to analyse and solve programming problems using Python.\",\\n      \"Understanding of Object-Oriented Programming (OOP): Basic understanding of OOP principles like classes, objects, inheritance, and encapsulation\",\\n      \"Basic knowledge in Data Science including but not limited to ETL, EDA, Data Processing, Visualization etc.\",\\n      \"Familiarity with machine learning and deep learning models (e.g., Tensor Flow, Keras, PyTorch).\",\\n      \"Experience working with SQL DMBS like PostgreSQL is a plus.\",\\n      \"Basic understanding of Natural Language Processing (NLP) concepts\",\\n      \"Knowledge of Python frameworks like Django\",\\n      \"Familiarity with Jira and Agile methodology will be an added advantage.\",\\n      \"Certification or experience in data analysis, data mining, and statistical modelling is an added advantage\",\\n      \"Strong knowledge of statistical concepts and techniques.\",\\n      \"Knowledge in data visualization tools (Tableau, Power BI, etc.) and SQL.\",\\n      \"Excellent problem-solving and analytical skills.\",\\n      \"Strong communication and presentation skills.\",\\n      \"Ability to work independently during night hours with minimal supervision\",\\n      \"Must be flexible to adjust to the occasional overtime or weekend shifts.\"\\n    ],\\n    \"description\": \"Location: Trivandrum\"\\n  }\\n]\\n```'"
      ]
     },
     "execution_count": 17,
     "metadata": {},
     "output_type": "execute_result"
    }
   ],
   "source": [
    "from langchain_core.prompts import PromptTemplate\n",
    "\n",
    "prompt_extract = PromptTemplate.from_template(\n",
    "        \"\"\"\n",
    "        ### SCRAPED TEXT FROM WEBSITE:\n",
    "        {page_data}\n",
    "        ### INSTRUCTION:\n",
    "        The scraped text is from the career's page of a website.\n",
    "        Your job is to extract the job postings and return them in JSON format containing the \n",
    "        following keys: `role`, `experience`, `skills` and `description`.\n",
    "        Only return the valid JSON.\n",
    "        ### VALID JSON (NO PREAMBLE):    \n",
    "        \"\"\"\n",
    ")\n",
    "\n",
    "chain_extract = prompt_extract | llm \n",
    "res = chain_extract.invoke(input={'page_data':page_data})\n",
    "res.content"
   ]
  },
  {
   "cell_type": "code",
   "execution_count": 18,
   "metadata": {},
   "outputs": [
    {
     "data": {
      "text/plain": [
       "[{'role': 'Python Developer ( For Night Shifts)',\n",
       "  'experience': '0 to 2 yrs. (Fresher’s can apply)',\n",
       "  'skills': ['Proficiency in Python programming with a strong grasp of core concepts.',\n",
       "   'Basic Data Structures and Algorithms: Familiarity with common data structures (lists, dictionaries, tuples) and basic algorithms (sorting, searching) is advantageous.',\n",
       "   'Problem-Solving Skills: Ability to analyse and solve programming problems using Python.',\n",
       "   'Understanding of Object-Oriented Programming (OOP): Basic understanding of OOP principles like classes, objects, inheritance, and encapsulation',\n",
       "   'Basic knowledge in Data Science including but not limited to ETL, EDA, Data Processing, Visualization etc.',\n",
       "   'Familiarity with machine learning and deep learning models (e.g., Tensor Flow, Keras, PyTorch).',\n",
       "   'Experience working with SQL DMBS like PostgreSQL is a plus.',\n",
       "   'Basic understanding of Natural Language Processing (NLP) concepts',\n",
       "   'Knowledge of Python frameworks like Django',\n",
       "   'Familiarity with Jira and Agile methodology will be an added advantage.',\n",
       "   'Certification or experience in data analysis, data mining, and statistical modelling is an added advantage',\n",
       "   'Strong knowledge of statistical concepts and techniques.',\n",
       "   'Knowledge in data visualization tools (Tableau, Power BI, etc.) and SQL.',\n",
       "   'Excellent problem-solving and analytical skills.',\n",
       "   'Strong communication and presentation skills.',\n",
       "   'Ability to work independently during night hours with minimal supervision',\n",
       "   'Must be flexible to adjust to the occasional overtime or weekend shifts.'],\n",
       "  'description': 'Location: Trivandrum'}]"
      ]
     },
     "execution_count": 18,
     "metadata": {},
     "output_type": "execute_result"
    }
   ],
   "source": [
    "from langchain_core.output_parsers import JsonOutputParser\n",
    "\n",
    "json_parser = JsonOutputParser()\n",
    "json_res = json_parser.parse(res.content)\n",
    "json_res"
   ]
  },
  {
   "cell_type": "code",
   "execution_count": 19,
   "metadata": {},
   "outputs": [
    {
     "data": {
      "text/html": [
       "<div>\n",
       "<style scoped>\n",
       "    .dataframe tbody tr th:only-of-type {\n",
       "        vertical-align: middle;\n",
       "    }\n",
       "\n",
       "    .dataframe tbody tr th {\n",
       "        vertical-align: top;\n",
       "    }\n",
       "\n",
       "    .dataframe thead th {\n",
       "        text-align: right;\n",
       "    }\n",
       "</style>\n",
       "<table border=\"1\" class=\"dataframe\">\n",
       "  <thead>\n",
       "    <tr style=\"text-align: right;\">\n",
       "      <th></th>\n",
       "      <th>Techstack</th>\n",
       "      <th>Links</th>\n",
       "    </tr>\n",
       "  </thead>\n",
       "  <tbody>\n",
       "    <tr>\n",
       "      <th>0</th>\n",
       "      <td>React, Node.js, MongoDB</td>\n",
       "      <td>https://example.com/react-portfolio</td>\n",
       "    </tr>\n",
       "    <tr>\n",
       "      <th>1</th>\n",
       "      <td>Angular,.NET, SQL Server</td>\n",
       "      <td>https://example.com/angular-portfolio</td>\n",
       "    </tr>\n",
       "    <tr>\n",
       "      <th>2</th>\n",
       "      <td>Vue.js, Ruby on Rails, PostgreSQL</td>\n",
       "      <td>https://example.com/vue-portfolio</td>\n",
       "    </tr>\n",
       "    <tr>\n",
       "      <th>3</th>\n",
       "      <td>Python, Django, MySQL</td>\n",
       "      <td>https://example.com/python-portfolio</td>\n",
       "    </tr>\n",
       "    <tr>\n",
       "      <th>4</th>\n",
       "      <td>Java, Spring Boot, Oracle</td>\n",
       "      <td>https://example.com/java-portfolio</td>\n",
       "    </tr>\n",
       "    <tr>\n",
       "      <th>5</th>\n",
       "      <td>Flutter, Firebase, GraphQL</td>\n",
       "      <td>https://example.com/flutter-portfolio</td>\n",
       "    </tr>\n",
       "    <tr>\n",
       "      <th>6</th>\n",
       "      <td>WordPress, PHP, MySQL</td>\n",
       "      <td>https://example.com/wordpress-portfolio</td>\n",
       "    </tr>\n",
       "    <tr>\n",
       "      <th>7</th>\n",
       "      <td>Magento, PHP, MySQL</td>\n",
       "      <td>https://example.com/magento-portfolio</td>\n",
       "    </tr>\n",
       "    <tr>\n",
       "      <th>8</th>\n",
       "      <td>React Native, Node.js, MongoDB</td>\n",
       "      <td>https://example.com/react-native-portfolio</td>\n",
       "    </tr>\n",
       "    <tr>\n",
       "      <th>9</th>\n",
       "      <td>iOS, Swift, Core Data</td>\n",
       "      <td>https://example.com/ios-portfolio</td>\n",
       "    </tr>\n",
       "    <tr>\n",
       "      <th>10</th>\n",
       "      <td>Android, Java, Room Persistence</td>\n",
       "      <td>https://example.com/android-portfolio</td>\n",
       "    </tr>\n",
       "    <tr>\n",
       "      <th>11</th>\n",
       "      <td>Kotlin, Android, Firebase</td>\n",
       "      <td>https://example.com/kotlin-android-portfolio</td>\n",
       "    </tr>\n",
       "    <tr>\n",
       "      <th>12</th>\n",
       "      <td>Android TV, Kotlin, Android NDK</td>\n",
       "      <td>https://example.com/android-tv-portfolio</td>\n",
       "    </tr>\n",
       "    <tr>\n",
       "      <th>13</th>\n",
       "      <td>iOS, Swift, ARKit</td>\n",
       "      <td>https://example.com/ios-ar-portfolio</td>\n",
       "    </tr>\n",
       "    <tr>\n",
       "      <th>14</th>\n",
       "      <td>Cross-platform, Xamarin, Azure</td>\n",
       "      <td>https://example.com/xamarin-portfolio</td>\n",
       "    </tr>\n",
       "    <tr>\n",
       "      <th>15</th>\n",
       "      <td>Backend, Kotlin, Spring Boot</td>\n",
       "      <td>https://example.com/kotlin-backend-portfolio</td>\n",
       "    </tr>\n",
       "    <tr>\n",
       "      <th>16</th>\n",
       "      <td>Frontend, TypeScript, Angular</td>\n",
       "      <td>https://example.com/typescript-frontend-portfolio</td>\n",
       "    </tr>\n",
       "    <tr>\n",
       "      <th>17</th>\n",
       "      <td>Full-stack, JavaScript, Express.js</td>\n",
       "      <td>https://example.com/full-stack-js-portfolio</td>\n",
       "    </tr>\n",
       "    <tr>\n",
       "      <th>18</th>\n",
       "      <td>Machine Learning, Python, TensorFlow</td>\n",
       "      <td>https://example.com/ml-python-portfolio</td>\n",
       "    </tr>\n",
       "    <tr>\n",
       "      <th>19</th>\n",
       "      <td>DevOps, Jenkins, Docker</td>\n",
       "      <td>https://example.com/devops-portfolio</td>\n",
       "    </tr>\n",
       "  </tbody>\n",
       "</table>\n",
       "</div>"
      ],
      "text/plain": [
       "                               Techstack  \\\n",
       "0                React, Node.js, MongoDB   \n",
       "1               Angular,.NET, SQL Server   \n",
       "2      Vue.js, Ruby on Rails, PostgreSQL   \n",
       "3                  Python, Django, MySQL   \n",
       "4              Java, Spring Boot, Oracle   \n",
       "5             Flutter, Firebase, GraphQL   \n",
       "6                  WordPress, PHP, MySQL   \n",
       "7                    Magento, PHP, MySQL   \n",
       "8         React Native, Node.js, MongoDB   \n",
       "9                  iOS, Swift, Core Data   \n",
       "10       Android, Java, Room Persistence   \n",
       "11             Kotlin, Android, Firebase   \n",
       "12       Android TV, Kotlin, Android NDK   \n",
       "13                     iOS, Swift, ARKit   \n",
       "14        Cross-platform, Xamarin, Azure   \n",
       "15          Backend, Kotlin, Spring Boot   \n",
       "16         Frontend, TypeScript, Angular   \n",
       "17    Full-stack, JavaScript, Express.js   \n",
       "18  Machine Learning, Python, TensorFlow   \n",
       "19               DevOps, Jenkins, Docker   \n",
       "\n",
       "                                                Links  \n",
       "0                 https://example.com/react-portfolio  \n",
       "1               https://example.com/angular-portfolio  \n",
       "2                   https://example.com/vue-portfolio  \n",
       "3                https://example.com/python-portfolio  \n",
       "4                  https://example.com/java-portfolio  \n",
       "5               https://example.com/flutter-portfolio  \n",
       "6             https://example.com/wordpress-portfolio  \n",
       "7               https://example.com/magento-portfolio  \n",
       "8          https://example.com/react-native-portfolio  \n",
       "9                   https://example.com/ios-portfolio  \n",
       "10              https://example.com/android-portfolio  \n",
       "11       https://example.com/kotlin-android-portfolio  \n",
       "12           https://example.com/android-tv-portfolio  \n",
       "13               https://example.com/ios-ar-portfolio  \n",
       "14              https://example.com/xamarin-portfolio  \n",
       "15       https://example.com/kotlin-backend-portfolio  \n",
       "16  https://example.com/typescript-frontend-portfolio  \n",
       "17        https://example.com/full-stack-js-portfolio  \n",
       "18            https://example.com/ml-python-portfolio  \n",
       "19               https://example.com/devops-portfolio  "
      ]
     },
     "execution_count": 19,
     "metadata": {},
     "output_type": "execute_result"
    }
   ],
   "source": [
    "import pandas as pd\n",
    "\n",
    "df = pd.read_csv(\"my_portfolio.csv\")\n",
    "df"
   ]
  },
  {
   "cell_type": "code",
   "execution_count": 20,
   "metadata": {},
   "outputs": [
    {
     "name": "stderr",
     "output_type": "stream",
     "text": [
      "C:\\Users\\AMALA SALI\\.cache\\chroma\\onnx_models\\all-MiniLM-L6-v2\\onnx.tar.gz: 100%|██████████| 79.3M/79.3M [00:30<00:00, 2.76MiB/s]\n"
     ]
    }
   ],
   "source": [
    "import uuid\n",
    "import chromadb\n",
    "\n",
    "client = chromadb.PersistentClient('vectorstore')\n",
    "collection = client.get_or_create_collection(name=\"portfolio\")\n",
    "\n",
    "if not collection.count():\n",
    "    for _, row in df.iterrows():\n",
    "        collection.add(documents=row[\"Techstack\"],\n",
    "                       metadatas={\"links\": row[\"Links\"]},\n",
    "                       ids=[str(uuid.uuid4())])"
   ]
  },
  {
   "cell_type": "code",
   "execution_count": 27,
   "metadata": {},
   "outputs": [
    {
     "data": {
      "text/plain": [
       "[[{'links': 'https://example.com/ml-python-portfolio'},\n",
       "  {'links': 'https://example.com/python-portfolio'}],\n",
       " [{'links': 'https://example.com/react-portfolio'},\n",
       "  {'links': 'https://example.com/react-native-portfolio'}]]"
      ]
     },
     "execution_count": 27,
     "metadata": {},
     "output_type": "execute_result"
    }
   ],
   "source": [
    "links = collection.query(query_texts=[\"experience in python\",\"experience in react\"],n_results=2).get('metadatas', [])\n",
    "links"
   ]
  },
  {
   "cell_type": "code",
   "execution_count": 31,
   "metadata": {},
   "outputs": [
    {
     "data": {
      "text/plain": [
       "['Proficiency in Python programming with a strong grasp of core concepts.',\n",
       " 'Basic Data Structures and Algorithms: Familiarity with common data structures (lists, dictionaries, tuples) and basic algorithms (sorting, searching) is advantageous.',\n",
       " 'Problem-Solving Skills: Ability to analyse and solve programming problems using Python.',\n",
       " 'Understanding of Object-Oriented Programming (OOP): Basic understanding of OOP principles like classes, objects, inheritance, and encapsulation',\n",
       " 'Basic knowledge in Data Science including but not limited to ETL, EDA, Data Processing, Visualization etc.',\n",
       " 'Familiarity with machine learning and deep learning models (e.g., Tensor Flow, Keras, PyTorch).',\n",
       " 'Experience working with SQL DMBS like PostgreSQL is a plus.',\n",
       " 'Basic understanding of Natural Language Processing (NLP) concepts',\n",
       " 'Knowledge of Python frameworks like Django',\n",
       " 'Familiarity with Jira and Agile methodology will be an added advantage.',\n",
       " 'Certification or experience in data analysis, data mining, and statistical modelling is an added advantage',\n",
       " 'Strong knowledge of statistical concepts and techniques.',\n",
       " 'Knowledge in data visualization tools (Tableau, Power BI, etc.) and SQL.',\n",
       " 'Excellent problem-solving and analytical skills.',\n",
       " 'Strong communication and presentation skills.',\n",
       " 'Ability to work independently during night hours with minimal supervision',\n",
       " 'Must be flexible to adjust to the occasional overtime or weekend shifts.']"
      ]
     },
     "execution_count": 31,
     "metadata": {},
     "output_type": "execute_result"
    }
   ],
   "source": [
    "job = json_res\n",
    "skills = job[0]['skills']\n",
    "skills"
   ]
  },
  {
   "cell_type": "code",
   "execution_count": 33,
   "metadata": {},
   "outputs": [
    {
     "data": {
      "text/plain": [
       "[[{'links': 'https://example.com/ml-python-portfolio'},\n",
       "  {'links': 'https://example.com/python-portfolio'}]]"
      ]
     },
     "execution_count": 33,
     "metadata": {},
     "output_type": "execute_result"
    }
   ],
   "source": [
    "links = collection.query(query_texts=[\"skills\"],n_results=2).get('metadatas', [])\n",
    "links"
   ]
  },
  {
   "cell_type": "code",
   "execution_count": 34,
   "metadata": {},
   "outputs": [
    {
     "name": "stdout",
     "output_type": "stream",
     "text": [
      "Subject:  Streamlining Your Processes with AI-Powered Solutions\n",
      "\n",
      "Dear [Hiring Manager Name],\n",
      "\n",
      "I came across your job opening for a Python Developer (For Night Shifts) and believe AtliQ could be a valuable partner in finding the right talent for your team. \n",
      "\n",
      "At AtliQ, we specialize in providing AI and software consulting services that help businesses like yours optimize processes, reduce costs, and scale efficiently.  We have a proven track record of success in developing tailored Python-based solutions, leveraging the expertise of our skilled developers.\n",
      "\n",
      "You can explore some examples of our Python development expertise here:\n",
      "\n",
      "* [https://example.com/ml-python-portfolio](https://example.com/ml-python-portfolio)\n",
      "* [https://example.com/python-portfolio](https://example.com/python-portfolio)\n",
      "\n",
      "We understand the importance of finding candidates with a strong foundation in Python programming, data structures, algorithms, and machine learning concepts. Our recruitment process is designed to identify individuals who possess not only technical skills but also the problem-solving and analytical abilities essential for success in this role.\n",
      "\n",
      "Would you be open to discussing how AtliQ can help you find a qualified Python Developer who can contribute to your team's success?\n",
      "\n",
      "Sincerely,\n",
      "\n",
      "Mohan\n",
      "\n",
      "Business Development Executive\n",
      "\n",
      "AtliQ \n",
      "\n",
      "\n",
      "\n",
      "\n"
     ]
    }
   ],
   "source": [
    "prompt_email = PromptTemplate.from_template(\n",
    "        \"\"\"\n",
    "        ### JOB DESCRIPTION:\n",
    "        {job_description}\n",
    "        \n",
    "        ### INSTRUCTION:\n",
    "        You are Mohan, a business development executive at AtliQ. AtliQ is an AI & Software Consulting company dedicated to facilitating\n",
    "        the seamless integration of business processes through automated tools. \n",
    "        Over our experience, we have empowered numerous enterprises with tailored solutions, fostering scalability, \n",
    "        process optimization, cost reduction, and heightened overall efficiency. \n",
    "        Your job is to write a cold email to the client regarding the job mentioned above describing the capability of AtliQ \n",
    "        in fulfilling their needs.\n",
    "        Also add the most relevant ones from the following links to showcase Atliq's portfolio: {link_list}\n",
    "        Remember you are Mohan, BDE at AtliQ. \n",
    "        Do not provide a preamble.\n",
    "        ### EMAIL (NO PREAMBLE):\n",
    "        \n",
    "        \"\"\"\n",
    "        )\n",
    "\n",
    "chain_email = prompt_email | llm\n",
    "res = chain_email.invoke({\"job_description\": str(job), \"link_list\": links})\n",
    "print(res.content)"
   ]
  },
  {
   "cell_type": "code",
   "execution_count": null,
   "metadata": {},
   "outputs": [],
   "source": []
  }
 ],
 "metadata": {
  "kernelspec": {
   "display_name": "Python 3",
   "language": "python",
   "name": "python3"
  },
  "language_info": {
   "codemirror_mode": {
    "name": "ipython",
    "version": 3
   },
   "file_extension": ".py",
   "mimetype": "text/x-python",
   "name": "python",
   "nbconvert_exporter": "python",
   "pygments_lexer": "ipython3",
   "version": "3.11.9"
  }
 },
 "nbformat": 4,
 "nbformat_minor": 2
}
